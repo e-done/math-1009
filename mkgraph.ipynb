{
  "nbformat": 4,
  "nbformat_minor": 0,
  "metadata": {
    "colab": {
      "provenance": [],
      "collapsed_sections": [
        "ZQM7ZN8fUhDM",
        "TpGy7TlXVwDK",
        "JvID41lmWA7n",
        "pqmJ8ooMWzV-",
        "yWzlaU5SWWOi",
        "cKiavXAtWnxz"
      ],
      "toc_visible": true,
      "authorship_tag": "ABX9TyPQiADum8c0jZ3WeD9k2RgV",
      "include_colab_link": true
    },
    "kernelspec": {
      "name": "python3",
      "display_name": "Python 3"
    },
    "language_info": {
      "name": "python"
    }
  },
  "cells": [
    {
      "cell_type": "markdown",
      "metadata": {
        "id": "view-in-github",
        "colab_type": "text"
      },
      "source": [
        "<a href=\"https://colab.research.google.com/github/e-done/math-1009/blob/main/mkgraph.ipynb\" target=\"_parent\"><img src=\"https://colab.research.google.com/assets/colab-badge.svg\" alt=\"Open In Colab\"/></a>"
      ]
    },
    {
      "cell_type": "markdown",
      "source": [
        "# Load Modules"
      ],
      "metadata": {
        "id": "ZQM7ZN8fUhDM"
      }
    },
    {
      "cell_type": "code",
      "execution_count": null,
      "metadata": {
        "id": "X62n_pzaUfaQ"
      },
      "outputs": [],
      "source": [
        "! pip install algorithmx\n",
        "import algorithmx\n",
        "import networkx as nx\n",
        "import string\n",
        "import random\n",
        "import itertools"
      ]
    },
    {
      "cell_type": "markdown",
      "source": [
        "# Option 1 : Create Defined Graph"
      ],
      "metadata": {
        "id": "TpGy7TlXVwDK"
      }
    },
    {
      "cell_type": "code",
      "source": [
        "from logging import Handler\n",
        "#\n",
        "# G = nx.Graph() # for undirected graph\n",
        "# G = nx.DiGraph() # for directed graph\n",
        "# G = nx.MultiGraph() # for undirected graph with self-loops or multiple edges that connect the same vertices\n",
        "# G = nx.MultiDiGraph() # for directed graph with self-loops or multiple edges that connect the same vertices\n",
        "#\n",
        "G = nx.Graph()\n",
        "#\n",
        "#G.add_edge('A','B',weight=8) # for weighted edges\n",
        "#G.add_edge('A','B') # for unweighted edges\n",
        "#\n",
        "G.add_edge('A','D')\n",
        "G.add_edge('A','C')\n",
        "G.add_edge('A','B')\n",
        "G.add_edge('B','C')\n",
        "\n",
        "# Create an edgedict dictionary if you want to label your edges\n",
        "edgedict = {}\n",
        "edgedict[list(G.edges)[0]] = 'a'\n",
        "edgedict[list(G.edges)[1]] = 'b'\n",
        "edgedict[list(G.edges)[2]] = 'c'\n",
        "edgedict[list(G.edges)[3]] = 'd'\n"
      ],
      "metadata": {
        "id": "iNjALojyV7vZ"
      },
      "execution_count": 36,
      "outputs": []
    },
    {
      "cell_type": "markdown",
      "source": [
        "# Option 2 : Create Random Graph"
      ],
      "metadata": {
        "id": "JvID41lmWA7n"
      }
    },
    {
      "cell_type": "code",
      "source": [
        "##########################\n",
        "# graph settings to edit\n",
        "numVertices = 7\n",
        "logicDirected = False\n",
        "logicWeighted = False\n",
        "logicLabeled = False\n",
        "##########################\n",
        "\n",
        "#percentLink = random.uniform(0.3, 0.7)\n",
        "percentLink = 0.4\n",
        "graphSeed = random.randint(1,1000)\n",
        "print('percentLink =',percentLink)\n",
        "print('graphSeed =',graphSeed)\n",
        "\n",
        "G = nx.gnp_random_graph(numVertices, percentLink, seed=graphSeed, directed=logicDirected)\n",
        "if not logicDirected and not logicWeighted :\n",
        "  G = nx.Graph(G) # makes it undirected\n",
        "# remove any nodes that are not connected to anything\n",
        "G.remove_nodes_from(list(nx.isolates(G)))\n",
        "\n",
        "# dictionary to map nodes to A, B, C, ..., Z, AA, AB, AC, ...\n",
        "def iter_all_upper() :\n",
        "  for size in itertools.count(1) :\n",
        "    for s in itertools.product(string.ascii_uppercase, repeat=size) :\n",
        "      yield \"\".join(s)\n",
        "nodedict = {}\n",
        "i=0\n",
        "for s in iter_all_upper() :\n",
        "  e = list(G.nodes)[i]\n",
        "  nodedict[i] = s\n",
        "  i+=1\n",
        "  if i==len(G.nodes) :\n",
        "    break\n",
        "G = nx.relabel_nodes(G, nodedict)\n",
        "\n",
        "# dictionary to map edges to a, b, c, ..., z, aa, ab, ac, ...\n",
        "def iter_all_lower() :\n",
        "  for size in itertools.count(1) :\n",
        "    for s in itertools.product(string.ascii_lowercase, repeat=size) :\n",
        "      yield \"\".join(s)\n",
        "edgedict = {}\n",
        "i=0\n",
        "for s in iter_all_lower() :\n",
        "  e = list(G.edges)[i]\n",
        "  edgedict[e] = s\n",
        "  i+=1\n",
        "  if i==len(G.edges) :\n",
        "    break\n",
        "\n",
        "# weights\n",
        "if logicWeighted :\n",
        "  weightSeed = random.randint(1,1000)\n",
        "  random.seed(weightSeed)\n",
        "  print('weightSeed =',weightSeed)\n",
        "  nx.set_edge_attributes(G, {e: {'weight': random.randint(1, 10)} for e in G.edges})\n",
        "#else :\n",
        "#  nx.set_edge_attributes(G, {e: {'weight': 1} for e in G.edges})\n",
        "\n",
        "if not logicLabeled :\n",
        "  del edgedict"
      ],
      "metadata": {
        "id": "MywXPK1RWFrC"
      },
      "execution_count": null,
      "outputs": []
    },
    {
      "cell_type": "markdown",
      "source": [
        "# Display Graph Visual\n",
        "\n"
      ],
      "metadata": {
        "id": "yWzlaU5SWWOi"
      }
    },
    {
      "cell_type": "code",
      "source": [
        "from google.colab import output\n",
        "output.enable_custom_widget_manager()\n",
        "\n",
        "# canvas\n",
        "canvas = algorithmx.jupyter_canvas()\n",
        "canvas.size((800, 800))\n",
        "\n",
        "# nodes\n",
        "canvas.nodes(G.nodes).add().color('rgb(168, 153, 104)')\n",
        "canvas.nodes(G.nodes).label().color('black')\n",
        "\n",
        "# edges\n",
        "logicDirected = nx.is_directed(G)\n",
        "init_edges = canvas.edges(G.edges).add().directed(logicDirected).color('rgb(0, 59, 92)')\n",
        "logicWeighted = False\n",
        "for e in G.edges :\n",
        "  if 'weight' in G.edges[e] :\n",
        "    logicWeighted = True\n",
        "if logicWeighted :\n",
        "  init_edges.label().add().color('black').text(lambda e: G.edges[e]['weight'])\n",
        "logicLabeled = 'edgedict' in locals()\n",
        "if logicLabeled :\n",
        "  init_edges.label('centrality').add().color('black').text(lambda e: edgedict[e])\n",
        "\n",
        "# display\n",
        "canvas"
      ],
      "metadata": {
        "id": "dagXku9MWczB"
      },
      "execution_count": null,
      "outputs": []
    },
    {
      "cell_type": "markdown",
      "source": [
        "# Display Graph Table"
      ],
      "metadata": {
        "id": "cKiavXAtWnxz"
      }
    },
    {
      "cell_type": "code",
      "source": [
        "print('Vertices')\n",
        "for n in G.nodes :\n",
        "  print(n)\n",
        "print('\\n')\n",
        "\n",
        "logicDirected = nx.is_directed(G)\n",
        "logicLabeled = 'edgedict' in locals()\n",
        "logicWeighted = False\n",
        "for e in G.edges :\n",
        "  if 'weight' in G.edges[e] :\n",
        "  #if G.edges[e]['weight'] != 1 :\n",
        "      logicWeighted = True\n",
        "\n",
        "print('Edges')\n",
        "if logicWeighted :\n",
        "  if logicDirected :\n",
        "    if logicLabeled :\n",
        "      print('label = (from vertex, to vertex) : weight')\n",
        "    else :\n",
        "      print('(from vertex, to vertex) : weight')\n",
        "  else :\n",
        "    if logicLabeled :\n",
        "      print('label = (vertex, vertex) : weight')\n",
        "    else :\n",
        "      print('(vertex, vertex) : weight')\n",
        "  for e in G.edges :\n",
        "    if logicLabeled :\n",
        "      print(f\"{edgedict[e]} = ({e[0]},{e[1]}) : {G.edges[e]['weight']}\")\n",
        "    else :\n",
        "      print(f\"({e[0]},{e[1]}) : {G.edges[e]['weight']}\")\n",
        "else :\n",
        "  if logicDirected :\n",
        "    if logicLabeled :\n",
        "      print('label = (from vertex, to vertex)')\n",
        "    else :\n",
        "      print('(from vertex, to vertex)')\n",
        "  else :\n",
        "    if logicLabeled :\n",
        "      print('label = (vertex, vertex)')\n",
        "    else :\n",
        "      print('(vertex, vertex)')\n",
        "  for e in G.edges :\n",
        "    if logicLabeled :\n",
        "      print(f\"{edgedict[e]} = ({e[0]},{e[1]})\")\n",
        "    else :\n",
        "      print(f\"({e[0]},{e[1]})\")\n"
      ],
      "metadata": {
        "id": "gVYvLRnWWq1j"
      },
      "execution_count": null,
      "outputs": []
    },
    {
      "cell_type": "code",
      "source": [],
      "metadata": {
        "id": "cX4AJ_0RMRWm"
      },
      "execution_count": null,
      "outputs": []
    }
  ]
}