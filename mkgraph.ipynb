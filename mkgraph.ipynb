{
  "nbformat": 4,
  "nbformat_minor": 0,
  "metadata": {
    "colab": {
      "provenance": [],
      "collapsed_sections": [
        "ZQM7ZN8fUhDM",
        "TpGy7TlXVwDK",
        "JvID41lmWA7n",
        "pqmJ8ooMWzV-",
        "yWzlaU5SWWOi",
        "cKiavXAtWnxz"
      ],
      "toc_visible": true,
      "authorship_tag": "ABX9TyPUxH5m+8hj9khqtKPcbZmm",
      "include_colab_link": true
    },
    "kernelspec": {
      "name": "python3",
      "display_name": "Python 3"
    },
    "language_info": {
      "name": "python"
    },
    "widgets": {
      "application/vnd.jupyter.widget-state+json": {
        "2b2f9ba49a764b228abf1e25dad5b06b": {
          "model_module": "algorithmx-jupyter",
          "model_name": "AlgorithmXModel",
          "model_module_version": "^3.0.0",
          "state": {
            "_dom_classes": [],
            "_model_module": "algorithmx-jupyter",
            "_model_module_version": "^3.0.0",
            "_model_name": "AlgorithmXModel",
            "_view_count": null,
            "_view_module": "algorithmx-jupyter",
            "_view_module_version": "^3.0.0",
            "_view_name": "AlgorithmXView",
            "events": [
              "{\"attrs\": {\"size\": [800, 800]}}",
              "{\"attrs\": {\"nodes\": {\"A\": {}, \"B\": {}, \"C\": {}, \"D\": {}, \"E\": {}, \"F\": {}, \"G\": {}, \"H\": {}}}}",
              "{\"attrs\": {\"nodes\": {\"A\": {\"color\": \"rgb(168, 153, 104)\"}, \"B\": {\"color\": \"rgb(168, 153, 104)\"}, \"C\": {\"color\": \"rgb(168, 153, 104)\"}, \"D\": {\"color\": \"rgb(168, 153, 104)\"}, \"E\": {\"color\": \"rgb(168, 153, 104)\"}, \"F\": {\"color\": \"rgb(168, 153, 104)\"}, \"G\": {\"color\": \"rgb(168, 153, 104)\"}, \"H\": {\"color\": \"rgb(168, 153, 104)\"}}}, \"animation\": {\"duration\": 0}}",
              "{\"attrs\": {\"nodes\": {\"A\": {\"labels\": {\"0\": {\"color\": \"black\"}}}, \"B\": {\"labels\": {\"0\": {\"color\": \"black\"}}}, \"C\": {\"labels\": {\"0\": {\"color\": \"black\"}}}, \"D\": {\"labels\": {\"0\": {\"color\": \"black\"}}}, \"E\": {\"labels\": {\"0\": {\"color\": \"black\"}}}, \"F\": {\"labels\": {\"0\": {\"color\": \"black\"}}}, \"G\": {\"labels\": {\"0\": {\"color\": \"black\"}}}, \"H\": {\"labels\": {\"0\": {\"color\": \"black\"}}}}}}",
              "{\"attrs\": {\"edges\": {\"A-B\": {\"source\": \"A\", \"target\": \"B\"}, \"A-C\": {\"source\": \"A\", \"target\": \"C\"}, \"A-D\": {\"source\": \"A\", \"target\": \"D\"}, \"A-E\": {\"source\": \"A\", \"target\": \"E\"}, \"A-F\": {\"source\": \"A\", \"target\": \"F\"}, \"A-G\": {\"source\": \"A\", \"target\": \"G\"}, \"B-H\": {\"source\": \"B\", \"target\": \"H\"}, \"B-C\": {\"source\": \"B\", \"target\": \"C\"}, \"C-H\": {\"source\": \"C\", \"target\": \"H\"}, \"C-D\": {\"source\": \"C\", \"target\": \"D\"}, \"D-H\": {\"source\": \"D\", \"target\": \"H\"}, \"D-E\": {\"source\": \"D\", \"target\": \"E\"}, \"E-H\": {\"source\": \"E\", \"target\": \"H\"}, \"E-F\": {\"source\": \"E\", \"target\": \"F\"}, \"F-H\": {\"source\": \"F\", \"target\": \"H\"}, \"G-H\": {\"source\": \"G\", \"target\": \"H\"}}}}",
              "{\"attrs\": {\"edges\": {\"A-B\": {\"directed\": false}, \"A-C\": {\"directed\": false}, \"A-D\": {\"directed\": false}, \"A-E\": {\"directed\": false}, \"A-F\": {\"directed\": false}, \"A-G\": {\"directed\": false}, \"B-H\": {\"directed\": false}, \"B-C\": {\"directed\": false}, \"C-H\": {\"directed\": false}, \"C-D\": {\"directed\": false}, \"D-H\": {\"directed\": false}, \"D-E\": {\"directed\": false}, \"E-H\": {\"directed\": false}, \"E-F\": {\"directed\": false}, \"F-H\": {\"directed\": false}, \"G-H\": {\"directed\": false}}}, \"animation\": {\"duration\": 0}}",
              "{\"attrs\": {\"edges\": {\"A-B\": {\"color\": \"rgb(0, 59, 92)\"}, \"A-C\": {\"color\": \"rgb(0, 59, 92)\"}, \"A-D\": {\"color\": \"rgb(0, 59, 92)\"}, \"A-E\": {\"color\": \"rgb(0, 59, 92)\"}, \"A-F\": {\"color\": \"rgb(0, 59, 92)\"}, \"A-G\": {\"color\": \"rgb(0, 59, 92)\"}, \"B-H\": {\"color\": \"rgb(0, 59, 92)\"}, \"B-C\": {\"color\": \"rgb(0, 59, 92)\"}, \"C-H\": {\"color\": \"rgb(0, 59, 92)\"}, \"C-D\": {\"color\": \"rgb(0, 59, 92)\"}, \"D-H\": {\"color\": \"rgb(0, 59, 92)\"}, \"D-E\": {\"color\": \"rgb(0, 59, 92)\"}, \"E-H\": {\"color\": \"rgb(0, 59, 92)\"}, \"E-F\": {\"color\": \"rgb(0, 59, 92)\"}, \"F-H\": {\"color\": \"rgb(0, 59, 92)\"}, \"G-H\": {\"color\": \"rgb(0, 59, 92)\"}}}, \"animation\": {\"duration\": 0}}",
              "{\"attrs\": {\"edges\": {\"A-B\": {\"labels\": {\"0\": {}}}, \"A-C\": {\"labels\": {\"0\": {}}}, \"A-D\": {\"labels\": {\"0\": {}}}, \"A-E\": {\"labels\": {\"0\": {}}}, \"A-F\": {\"labels\": {\"0\": {}}}, \"A-G\": {\"labels\": {\"0\": {}}}, \"B-H\": {\"labels\": {\"0\": {}}}, \"B-C\": {\"labels\": {\"0\": {}}}, \"C-H\": {\"labels\": {\"0\": {}}}, \"C-D\": {\"labels\": {\"0\": {}}}, \"D-H\": {\"labels\": {\"0\": {}}}, \"D-E\": {\"labels\": {\"0\": {}}}, \"E-H\": {\"labels\": {\"0\": {}}}, \"E-F\": {\"labels\": {\"0\": {}}}, \"F-H\": {\"labels\": {\"0\": {}}}, \"G-H\": {\"labels\": {\"0\": {}}}}}, \"animation\": {\"duration\": 0}}",
              "{\"attrs\": {\"edges\": {\"A-B\": {\"labels\": {\"0\": {\"color\": \"black\"}}}, \"A-C\": {\"labels\": {\"0\": {\"color\": \"black\"}}}, \"A-D\": {\"labels\": {\"0\": {\"color\": \"black\"}}}, \"A-E\": {\"labels\": {\"0\": {\"color\": \"black\"}}}, \"A-F\": {\"labels\": {\"0\": {\"color\": \"black\"}}}, \"A-G\": {\"labels\": {\"0\": {\"color\": \"black\"}}}, \"B-H\": {\"labels\": {\"0\": {\"color\": \"black\"}}}, \"B-C\": {\"labels\": {\"0\": {\"color\": \"black\"}}}, \"C-H\": {\"labels\": {\"0\": {\"color\": \"black\"}}}, \"C-D\": {\"labels\": {\"0\": {\"color\": \"black\"}}}, \"D-H\": {\"labels\": {\"0\": {\"color\": \"black\"}}}, \"D-E\": {\"labels\": {\"0\": {\"color\": \"black\"}}}, \"E-H\": {\"labels\": {\"0\": {\"color\": \"black\"}}}, \"E-F\": {\"labels\": {\"0\": {\"color\": \"black\"}}}, \"F-H\": {\"labels\": {\"0\": {\"color\": \"black\"}}}, \"G-H\": {\"labels\": {\"0\": {\"color\": \"black\"}}}}}, \"animation\": {\"duration\": 0}}",
              "{\"attrs\": {\"edges\": {\"A-B\": {\"labels\": {\"0\": {\"text\": 8}}}, \"A-C\": {\"labels\": {\"0\": {\"text\": 8}}}, \"A-D\": {\"labels\": {\"0\": {\"text\": 8}}}, \"A-E\": {\"labels\": {\"0\": {\"text\": 8}}}, \"A-F\": {\"labels\": {\"0\": {\"text\": 8}}}, \"A-G\": {\"labels\": {\"0\": {\"text\": 8}}}, \"B-H\": {\"labels\": {\"0\": {\"text\": 8}}}, \"B-C\": {\"labels\": {\"0\": {\"text\": 8}}}, \"C-H\": {\"labels\": {\"0\": {\"text\": 8}}}, \"C-D\": {\"labels\": {\"0\": {\"text\": 8}}}, \"D-H\": {\"labels\": {\"0\": {\"text\": 8}}}, \"D-E\": {\"labels\": {\"0\": {\"text\": 8}}}, \"E-H\": {\"labels\": {\"0\": {\"text\": 8}}}, \"E-F\": {\"labels\": {\"0\": {\"text\": 8}}}, \"F-H\": {\"labels\": {\"0\": {\"text\": 8}}}, \"G-H\": {\"labels\": {\"0\": {\"text\": 8}}}}}, \"animation\": {\"duration\": 0}}"
            ],
            "layout": "IPY_MODEL_0897ad21ff8d4a83bcccadabbc9c91a1",
            "show_buttons": false
          }
        },
        "0897ad21ff8d4a83bcccadabbc9c91a1": {
          "model_module": "@jupyter-widgets/base",
          "model_name": "LayoutModel",
          "model_module_version": "1.2.0",
          "state": {
            "_model_module": "@jupyter-widgets/base",
            "_model_module_version": "1.2.0",
            "_model_name": "LayoutModel",
            "_view_count": null,
            "_view_module": "@jupyter-widgets/base",
            "_view_module_version": "1.2.0",
            "_view_name": "LayoutView",
            "align_content": null,
            "align_items": null,
            "align_self": null,
            "border": null,
            "bottom": null,
            "display": null,
            "flex": null,
            "flex_flow": null,
            "grid_area": null,
            "grid_auto_columns": null,
            "grid_auto_flow": null,
            "grid_auto_rows": null,
            "grid_column": null,
            "grid_gap": null,
            "grid_row": null,
            "grid_template_areas": null,
            "grid_template_columns": null,
            "grid_template_rows": null,
            "height": null,
            "justify_content": null,
            "justify_items": null,
            "left": null,
            "margin": null,
            "max_height": null,
            "max_width": null,
            "min_height": null,
            "min_width": null,
            "object_fit": null,
            "object_position": null,
            "order": null,
            "overflow": null,
            "overflow_x": null,
            "overflow_y": null,
            "padding": null,
            "right": null,
            "top": null,
            "visibility": null,
            "width": null
          }
        }
      }
    }
  },
  "cells": [
    {
      "cell_type": "markdown",
      "metadata": {
        "id": "view-in-github",
        "colab_type": "text"
      },
      "source": [
        "<a href=\"https://colab.research.google.com/github/e-done/math-1009/blob/main/mkgraph.ipynb\" target=\"_parent\"><img src=\"https://colab.research.google.com/assets/colab-badge.svg\" alt=\"Open In Colab\"/></a>"
      ]
    },
    {
      "cell_type": "markdown",
      "source": [
        "# Load Modules"
      ],
      "metadata": {
        "id": "ZQM7ZN8fUhDM"
      }
    },
    {
      "cell_type": "code",
      "execution_count": 1,
      "metadata": {
        "id": "X62n_pzaUfaQ",
        "colab": {
          "base_uri": "https://localhost:8080/"
        },
        "outputId": "a9934a49-7909-4fbe-83b0-07c05eab1059"
      },
      "outputs": [
        {
          "output_type": "stream",
          "name": "stdout",
          "text": [
            "Collecting algorithmx\n",
            "  Downloading algorithmx-2.0.3-py3-none-any.whl (1.6 MB)\n",
            "\u001b[2K     \u001b[90m━━━━━━━━━━━━━━━━━━━━━━━━━━━━━━━━━━━━━━━━\u001b[0m \u001b[32m1.6/1.6 MB\u001b[0m \u001b[31m13.9 MB/s\u001b[0m eta \u001b[36m0:00:00\u001b[0m\n",
            "\u001b[?25hInstalling collected packages: algorithmx\n",
            "Successfully installed algorithmx-2.0.3\n"
          ]
        }
      ],
      "source": [
        "! pip install algorithmx\n",
        "import algorithmx\n",
        "import networkx as nx\n",
        "import string\n",
        "import random\n",
        "import itertools"
      ]
    },
    {
      "cell_type": "markdown",
      "source": [
        "# Option 1 : Create Defined Graph"
      ],
      "metadata": {
        "id": "TpGy7TlXVwDK"
      }
    },
    {
      "cell_type": "code",
      "source": [
        "#\n",
        "# G = nx.Graph() # for undirected graph\n",
        "# G = nx.DiGraph() # for directed graph\n",
        "# G = nx.MultiGraph() # if your graph has loops or multiple edges that connect the same vertices\n",
        "#\n",
        "G = nx.MultiGraph()\n",
        "#\n",
        "#G.add_edge('A','B',weight=8) # for weighted edges\n",
        "#G.add_edge('A','B') # for unweighted edges\n",
        "#\n",
        "G.add_edge('A','B')\n",
        "G.add_edge('A','C')\n",
        "G.add_edge('A','D')\n",
        "G.add_edge('A','E')\n",
        "G.add_edge('A','F')\n",
        "G.add_edge('A','G')\n",
        "G.add_edge('B','H')\n",
        "G.add_edge('B','H')\n",
        "G.add_edge('C','H')\n",
        "G.add_edge('D','H')\n",
        "G.add_edge('E','H')\n",
        "G.add_edge('F','H')\n",
        "G.add_edge('G','H')\n",
        "G.add_edge('G','H')\n",
        "G.add_edge('B','C')\n",
        "G.add_edge('C','D')\n",
        "G.add_edge('D','E')\n",
        "G.add_edge('E','F')\n"
      ],
      "metadata": {
        "id": "iNjALojyV7vZ",
        "outputId": "86318ab9-3174-46be-feb7-c2f2d4815c28",
        "colab": {
          "base_uri": "https://localhost:8080/"
        }
      },
      "execution_count": 29,
      "outputs": [
        {
          "output_type": "execute_result",
          "data": {
            "text/plain": [
              "0"
            ]
          },
          "metadata": {},
          "execution_count": 29
        }
      ]
    },
    {
      "cell_type": "markdown",
      "source": [
        "# Option 2 : Create Random Graph"
      ],
      "metadata": {
        "id": "JvID41lmWA7n"
      }
    },
    {
      "cell_type": "code",
      "source": [
        "##########################\n",
        "# graph settings to edit\n",
        "numVertices = 7\n",
        "logicDirected = False\n",
        "logicWeighted = False\n",
        "##########################\n",
        "\n",
        "percentLink = random.uniform(0.3, 0.7)\n",
        "graphSeed = random.randint(1,1000)\n",
        "print('percentLink =',percentLink)\n",
        "print('graphSeed =',graphSeed)\n",
        "\n",
        "G = nx.gnp_random_graph(numVertices, percentLink, seed=graphSeed, directed=logicDirected)\n",
        "if not logicDirected and not logicWeighted :\n",
        "    G = nx.Graph(G) # makes it undirected\n",
        "# remove any nodes that are not connected to anything\n",
        "G.remove_nodes_from(list(nx.isolates(G)))\n",
        "\n",
        "# dictionary to map nodes to A, B, C, ..., Z, AA, AB, AC, ...\n",
        "def iter_all_upper():\n",
        "    for size in itertools.count(1):\n",
        "        for s in itertools.product(string.ascii_uppercase, repeat=size):\n",
        "            yield \"\".join(s)\n",
        "nodedict = {}\n",
        "i=0\n",
        "for s in iter_all_upper() :\n",
        "    e = list(G.nodes)[i]\n",
        "    nodedict[i] = s\n",
        "    i+=1\n",
        "    if i==len(G.nodes) :\n",
        "        break\n",
        "G = nx.relabel_nodes(G, nodedict)\n",
        "\n",
        "# dictionary to map edges to a, b, c, ..., z, aa, ab, ac, ...\n",
        "def iter_all_lower():\n",
        "    for size in itertools.count(1):\n",
        "        for s in itertools.product(string.ascii_lowercase, repeat=size):\n",
        "            yield \"\".join(s)\n",
        "edgedict = {}\n",
        "i=0\n",
        "for s in iter_all_lower() :\n",
        "    e = list(G.edges)[i]\n",
        "    edgedict[e] = s\n",
        "    i+=1\n",
        "    if i==len(G.edges) :\n",
        "        break\n",
        "\n",
        "# weights\n",
        "if logicWeighted :\n",
        "    weightSeed = random.randint(1,1000)\n",
        "    random.seed(weightSeed)\n",
        "    print('weightSeed =',weightSeed)\n",
        "    nx.set_edge_attributes(G, {e: {'weight': random.randint(1, 10)} for e in G.edges})\n",
        "else :\n",
        "    nx.set_edge_attributes(G, {e: {'weight': 1} for e in G.edges})\n"
      ],
      "metadata": {
        "id": "MywXPK1RWFrC",
        "colab": {
          "base_uri": "https://localhost:8080/"
        },
        "outputId": "4ebebf25-d1cd-4d59-9123-395be806ed93"
      },
      "execution_count": null,
      "outputs": [
        {
          "output_type": "stream",
          "name": "stdout",
          "text": [
            "percentLink = 0.6016796951533192\n",
            "graphSeed = 581\n"
          ]
        }
      ]
    },
    {
      "cell_type": "markdown",
      "source": [
        "# Display Graph Visual\n",
        "\n"
      ],
      "metadata": {
        "id": "yWzlaU5SWWOi"
      }
    },
    {
      "cell_type": "code",
      "source": [
        "from google.colab import output\n",
        "output.enable_custom_widget_manager()\n",
        "\n",
        "# canvas\n",
        "canvas = algorithmx.jupyter_canvas()\n",
        "canvas.size((800, 800))\n",
        "\n",
        "# nodes\n",
        "canvas.nodes(G.nodes).add().color('rgb(168, 153, 104)')\n",
        "canvas.nodes(G.nodes).label().color('black')\n",
        "\n",
        "# edges\n",
        "logicDirected = nx.is_directed(G)\n",
        "init_edges = canvas.edges(G.edges).add().directed(logicDirected).color('rgb(0, 59, 92)')\n",
        "logicWeighted = False\n",
        "for e in G.edges :\n",
        "  if 'weight' in G.edges[e] :\n",
        "    logicWeighted = True\n",
        "if logicWeighted :\n",
        "  init_edges.label().add().color('black').text(lambda e: G.edges[e]['weight'])\n",
        "logicLabeled = 'edgedict' in locals()\n",
        "if logicLabeled :\n",
        "  init_edges.label('centrality').add().color('black').text(lambda e: edgedict[e])\n",
        "\n",
        "# display\n",
        "canvas"
      ],
      "metadata": {
        "id": "dagXku9MWczB",
        "colab": {
          "base_uri": "https://localhost:8080/",
          "height": 822,
          "referenced_widgets": [
            "2b2f9ba49a764b228abf1e25dad5b06b",
            "0897ad21ff8d4a83bcccadabbc9c91a1"
          ]
        },
        "outputId": "d3d25335-0c91-48fc-d29c-50b3de6ed0f8"
      },
      "execution_count": 25,
      "outputs": [
        {
          "output_type": "display_data",
          "data": {
            "text/plain": [
              "JupyterWidget(events=['{\"attrs\": {\"size\": [800, 800]}}', '{\"attrs\": {\"nodes\": {\"A\": {}, \"B\": {}, \"C\": {}, \"D\":…"
            ],
            "application/vnd.jupyter.widget-view+json": {
              "version_major": 2,
              "version_minor": 0,
              "model_id": "2b2f9ba49a764b228abf1e25dad5b06b"
            }
          },
          "metadata": {
            "application/vnd.jupyter.widget-view+json": {
              "colab": {
                "custom_widget_manager": {
                  "url": "https://ssl.gstatic.com/colaboratory-static/widgets/colab-cdn-widget-manager/2b70e893a8ba7c0f/manager.min.js"
                }
              }
            }
          }
        }
      ]
    },
    {
      "cell_type": "markdown",
      "source": [
        "# Display Graph Table"
      ],
      "metadata": {
        "id": "cKiavXAtWnxz"
      }
    },
    {
      "cell_type": "code",
      "source": [
        "print('Vertices')\n",
        "for n in G.nodes :\n",
        "  print(n)\n",
        "print('\\n')\n",
        "\n",
        "logicDirected = nx.is_directed(G)\n",
        "logicLabeled = 'edgedict' in locals()\n",
        "logicWeighted = False\n",
        "for e in G.edges :\n",
        "  if 'weight' in G.edges[e] :\n",
        "  #if G.edges[e]['weight'] != 1 :\n",
        "      logicWeighted = True\n",
        "\n",
        "print('Edges')\n",
        "if logicWeighted :\n",
        "  if logicDirected :\n",
        "    if logicLabeled :\n",
        "      print('label = (from vertex, to vertex) : weight')\n",
        "    else :\n",
        "      print('(from vertex, to vertex) : weight')\n",
        "  else :\n",
        "    if logicLabeled :\n",
        "      print('label = (vertex, vertex) : weight')\n",
        "    else :\n",
        "      print('(vertex, vertex) : weight')\n",
        "  for e in G.edges :\n",
        "    if logicLabeled :\n",
        "      print(f\"{edgedict[e]} = ({e[0]},{e[1]}) : {G.edges[e]['weight']}\")\n",
        "    else :\n",
        "      print(f\"({e[0]},{e[1]}) : {G.edges[e]['weight']}\")\n",
        "else :\n",
        "  if logicDirected :\n",
        "    if logicLabeled :\n",
        "      print('label = (from vertex, to vertex)')\n",
        "    else :\n",
        "      print('(from vertex, to vertex)')\n",
        "  else :\n",
        "    if logicLabeled :\n",
        "      print('label = (vertex, vertex)')\n",
        "    else :\n",
        "      print('(vertex, vertex)')\n",
        "  for e in G.edges :\n",
        "    if logicLabeled :\n",
        "      print(f\"{edgedict[e]} = ({e[0]},{e[1]})\")\n",
        "    else :\n",
        "      print(f\"({e[0]},{e[1]})\")\n"
      ],
      "metadata": {
        "id": "gVYvLRnWWq1j",
        "colab": {
          "base_uri": "https://localhost:8080/"
        },
        "outputId": "db4fc1a4-29a3-48cc-ecea-ed57f4c5389e"
      },
      "execution_count": 26,
      "outputs": [
        {
          "output_type": "stream",
          "name": "stdout",
          "text": [
            "Vertices\n",
            "A\n",
            "B\n",
            "C\n",
            "D\n",
            "E\n",
            "F\n",
            "G\n",
            "H\n",
            "\n",
            "\n",
            "Edges\n",
            "(vertex, vertex) : weight\n",
            "(A,B) : 8\n",
            "(A,C) : 8\n",
            "(A,D) : 8\n",
            "(A,E) : 8\n",
            "(A,F) : 8\n",
            "(A,G) : 8\n",
            "(B,H) : 8\n",
            "(B,C) : 8\n",
            "(C,H) : 8\n",
            "(C,D) : 8\n",
            "(D,H) : 8\n",
            "(D,E) : 8\n",
            "(E,H) : 8\n",
            "(E,F) : 8\n",
            "(F,H) : 8\n",
            "(G,H) : 8\n"
          ]
        }
      ]
    },
    {
      "cell_type": "code",
      "source": [],
      "metadata": {
        "id": "cX4AJ_0RMRWm"
      },
      "execution_count": null,
      "outputs": []
    }
  ]
}