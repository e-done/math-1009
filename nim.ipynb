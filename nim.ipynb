{
  "nbformat": 4,
  "nbformat_minor": 0,
  "metadata": {
    "colab": {
      "provenance": [],
      "collapsed_sections": [
        "ZQM7ZN8fUhDM",
        "TpGy7TlXVwDK",
        "JvID41lmWA7n",
        "pqmJ8ooMWzV-",
        "yWzlaU5SWWOi",
        "cKiavXAtWnxz"
      ],
      "toc_visible": true,
      "authorship_tag": "ABX9TyNc2o/KtSmqFT7/za3UePmi",
      "include_colab_link": true
    },
    "kernelspec": {
      "name": "python3",
      "display_name": "Python 3"
    },
    "language_info": {
      "name": "python"
    }
  },
  "cells": [
    {
      "cell_type": "markdown",
      "metadata": {
        "id": "view-in-github",
        "colab_type": "text"
      },
      "source": [
        "<a href=\"https://colab.research.google.com/github/e-done/math-1009/blob/main/nim.ipynb\" target=\"_parent\"><img src=\"https://colab.research.google.com/assets/colab-badge.svg\" alt=\"Open In Colab\"/></a>"
      ]
    },
    {
      "cell_type": "markdown",
      "source": [
        "# Play Game"
      ],
      "metadata": {
        "id": "cKiavXAtWnxz"
      }
    },
    {
      "cell_type": "code",
      "source": [
        "from operator import xor\n",
        "from functools import reduce\n",
        "\n",
        "N = int(input('How many piles are there? '))\n",
        "piles = []\n",
        "for i in range(N) :\n",
        "  piles.append( int(input(f'How many items are in pile {i+1}? ')) )\n",
        "\n",
        "mode = int(input('Who goes first? (1=You, 2=Opponent)? '))\n",
        "\n",
        "def strategy(piles) :\n",
        "  X = reduce(xor, piles)\n",
        "  if X == 0 :\n",
        "    print('Oh oh. You might be in trouble. I have no strategy to suggest.')\n",
        "    return\n",
        "  # if X does not equal 0, there is at least one possible move to suggest\n",
        "  for i,p in enumerate(piles) :\n",
        "    if xor(p,X) < p :\n",
        "      print(f'From pile {i+1}, you can remove {p-xor(p,X)}')\n",
        "\n",
        "def display(piles) :\n",
        "  print('----   ---------------')\n",
        "  print('Pile   Number of Items')\n",
        "  print('----   ---------------')\n",
        "  for i,p in enumerate(piles) :\n",
        "    print(f'{i+1}      {p}')\n",
        "  print('----   ---------------')\n",
        "\n",
        "def readin(player) :\n",
        "\n",
        "  str = input(f'\\nWhich pile and how many items did {player} select?\\n(enter as \"pile number, number of items taken\" without quotes)\\n')\n",
        "  str = str.split(',')\n",
        "  if len(str) == 2 :\n",
        "    return int(str[0]), int(str[1])\n",
        "  else :\n",
        "    print(' ')\n",
        "    print('oops. It appears you did not enter two comma separated numbers.')\n",
        "    exit()\n",
        "\n",
        "notDone = True\n",
        "\n",
        "if mode==1 :\n",
        "\n",
        "  # print the piles\n",
        "  display(piles)\n",
        "\n",
        "  # you go first\n",
        "  strategy(piles)\n",
        "  pileNum, itemNum = readin('You')\n",
        "  piles[pileNum-1] -= itemNum\n",
        "\n",
        "  # check if you won\n",
        "  if sum(piles) == 0 :\n",
        "    print(' ')\n",
        "    print('Congratulations. Looks like you won.')\n",
        "    notDone = False\n",
        "\n",
        "while notDone :\n",
        "\n",
        "  # print the piles\n",
        "  display(piles)\n",
        "\n",
        "  # opponents turn\n",
        "  pileNum, itemNum = readin('Opponent')\n",
        "  piles[pileNum-1] -= itemNum\n",
        "\n",
        "  # check if opponent won\n",
        "  if sum(piles) == 0 :\n",
        "    print(' ')\n",
        "    print('Bummer. Looks like the opponent won. Better luck next time.')\n",
        "    notDone = False\n",
        "\n",
        "  if notDone :\n",
        "    # print the piles\n",
        "    display(piles)\n",
        "\n",
        "    # your turn\n",
        "    strategy(piles)\n",
        "    pileNum, itemNum = readin('You')\n",
        "    piles[pileNum-1] -= itemNum\n",
        "\n",
        "    # check if you won\n",
        "    if sum(piles) == 0 :\n",
        "      print(' ')\n",
        "      print('Congratulations. Looks like you won.')\n",
        "      notDone = False\n"
      ],
      "metadata": {
        "id": "gVYvLRnWWq1j"
      },
      "execution_count": null,
      "outputs": []
    }
  ]
}