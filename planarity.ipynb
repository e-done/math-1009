{
  "nbformat": 4,
  "nbformat_minor": 0,
  "metadata": {
    "colab": {
      "provenance": [],
      "collapsed_sections": [
        "ZQM7ZN8fUhDM",
        "TpGy7TlXVwDK",
        "JvID41lmWA7n",
        "pqmJ8ooMWzV-",
        "yWzlaU5SWWOi",
        "cKiavXAtWnxz"
      ],
      "toc_visible": true,
      "authorship_tag": "ABX9TyM3QhtUeT+78BZgE+ZsGutA",
      "include_colab_link": true
    },
    "kernelspec": {
      "name": "python3",
      "display_name": "Python 3"
    },
    "language_info": {
      "name": "python"
    }
  },
  "cells": [
    {
      "cell_type": "markdown",
      "metadata": {
        "id": "view-in-github",
        "colab_type": "text"
      },
      "source": [
        "<a href=\"https://colab.research.google.com/github/e-done/math-1009/blob/main/planarity.ipynb\" target=\"_parent\"><img src=\"https://colab.research.google.com/assets/colab-badge.svg\" alt=\"Open In Colab\"/></a>"
      ]
    },
    {
      "cell_type": "markdown",
      "source": [
        "# Load Modules"
      ],
      "metadata": {
        "id": "ZQM7ZN8fUhDM"
      }
    },
    {
      "cell_type": "code",
      "execution_count": null,
      "metadata": {
        "id": "X62n_pzaUfaQ"
      },
      "outputs": [],
      "source": [
        "! pip install algorithmx\n",
        "import algorithmx\n",
        "import networkx as nx\n",
        "import string\n",
        "import random\n",
        "import itertools"
      ]
    },
    {
      "cell_type": "markdown",
      "source": [
        "# Option 1 : Create Defined Graph"
      ],
      "metadata": {
        "id": "TpGy7TlXVwDK"
      }
    },
    {
      "cell_type": "code",
      "source": [
        "G = nx.Graph()\n",
        "\n",
        "G.add_edge('A','B')\n",
        "G.add_edge('A','C')\n",
        "G.add_edge('B','C')\n",
        "G.add_edge('B','D')\n",
        "G.add_edge('B','E')\n",
        "G.add_edge('C','D')\n",
        "G.add_edge('D','E')"
      ],
      "metadata": {
        "id": "iNjALojyV7vZ"
      },
      "execution_count": 11,
      "outputs": []
    },
    {
      "cell_type": "markdown",
      "source": [
        "# Option 2 : Create Random Graph"
      ],
      "metadata": {
        "id": "JvID41lmWA7n"
      }
    },
    {
      "cell_type": "code",
      "source": [
        "#############################\n",
        "# graph settings to edit\n",
        "numVertices = 8\n",
        "graphSeed = 45 # random seed\n",
        "#############################\n",
        "\n",
        "# graph\n",
        "G = nx.gnp_random_graph(numVertices, 0.3, graphSeed, True)\n",
        "G = nx.Graph(G) # makes it undirected\n",
        "\n",
        "# dictionary to map nodes to A, B, C, ..., Z, AA, AB, AC, ...\n",
        "def iter_all_upper():\n",
        "    for size in itertools.count(1):\n",
        "        for s in itertools.product(string.ascii_uppercase, repeat=size):\n",
        "            yield \"\".join(s)\n",
        "nodedict = {}\n",
        "i=0\n",
        "for s in iter_all_upper() :\n",
        "    e = list(G.nodes)[i]\n",
        "    nodedict[i] = s\n",
        "    i+=1\n",
        "    if i==len(G.nodes) :\n",
        "        break\n",
        "G = nx.relabel_nodes(G, nodedict)\n",
        "\n",
        "# dictionary to map edges to a, b, c, ..., z, aa, ab, ac, ...\n",
        "def iter_all_lower():\n",
        "    for size in itertools.count(1):\n",
        "        for s in itertools.product(string.ascii_lowercase, repeat=size):\n",
        "            yield \"\".join(s)\n",
        "edgedict = {}\n",
        "i=0\n",
        "for s in iter_all_lower() :\n",
        "    e = list(G.edges)[i]\n",
        "    edgedict[e] = s\n",
        "    i+=1\n",
        "    if i==len(G.edges) :\n",
        "        break\n",
        "        "
      ],
      "metadata": {
        "id": "MywXPK1RWFrC"
      },
      "execution_count": 19,
      "outputs": []
    },
    {
      "cell_type": "markdown",
      "source": [
        "# Planarity Test"
      ],
      "metadata": {
        "id": "pqmJ8ooMWzV-"
      }
    },
    {
      "cell_type": "code",
      "source": [
        "nx.check_planarity(G)[0]"
      ],
      "metadata": {
        "colab": {
          "base_uri": "https://localhost:8080/"
        },
        "id": "NTHgkvFqW2eU",
        "outputId": "dfc6e12d-e982-4413-c8a6-2c42afa05400"
      },
      "execution_count": 20,
      "outputs": [
        {
          "output_type": "execute_result",
          "data": {
            "text/plain": [
              "False"
            ]
          },
          "metadata": {},
          "execution_count": 20
        }
      ]
    },
    {
      "cell_type": "markdown",
      "source": [
        "# Display Graph Visual"
      ],
      "metadata": {
        "id": "yWzlaU5SWWOi"
      }
    },
    {
      "cell_type": "code",
      "source": [
        "from google.colab import output\n",
        "output.enable_custom_widget_manager()\n",
        "\n",
        "# canvas\n",
        "canvas = algorithmx.jupyter_canvas()\n",
        "canvas.size((800, 800))\n",
        "\n",
        "# nodes\n",
        "canvas.nodes(G.nodes).add().color('rgb(168, 153, 104)')\n",
        "canvas.nodes(G.nodes).label().color('black')\n",
        "\n",
        "# edges\n",
        "init_edges = canvas.edges(G.edges).add().directed(False).color('rgb(0, 59, 92)')\n",
        "\n",
        "# display\n",
        "canvas\n"
      ],
      "metadata": {
        "id": "dagXku9MWczB"
      },
      "execution_count": null,
      "outputs": []
    },
    {
      "cell_type": "markdown",
      "source": [
        "# Display Graph Table"
      ],
      "metadata": {
        "id": "cKiavXAtWnxz"
      }
    },
    {
      "cell_type": "code",
      "source": [
        "print('Vertices')\n",
        "for n in G.nodes :\n",
        "    print(n)\n",
        "print('\\n')\n",
        "print('Edges')\n",
        "print('(vertex, vertex)')\n",
        "for e in G.edges :\n",
        "    print(e)"
      ],
      "metadata": {
        "id": "gVYvLRnWWq1j"
      },
      "execution_count": null,
      "outputs": []
    },
    {
      "cell_type": "code",
      "source": [],
      "metadata": {
        "id": "aqjcQRNMsAyI"
      },
      "execution_count": null,
      "outputs": []
    }
  ]
}