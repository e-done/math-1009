{
  "nbformat": 4,
  "nbformat_minor": 0,
  "metadata": {
    "colab": {
      "provenance": [],
      "collapsed_sections": [
        "ZQM7ZN8fUhDM",
        "TpGy7TlXVwDK",
        "JvID41lmWA7n",
        "pqmJ8ooMWzV-",
        "yWzlaU5SWWOi",
        "cKiavXAtWnxz"
      ],
      "toc_visible": true,
      "authorship_tag": "ABX9TyPuwqtG2IMzaotQAeu6XgrL",
      "include_colab_link": true
    },
    "kernelspec": {
      "name": "python3",
      "display_name": "Python 3"
    },
    "language_info": {
      "name": "python"
    },
    "widgets": {
      "application/vnd.jupyter.widget-state+json": {
        "bbbcbb3bfd3747a287fcc67b592ff4d7": {
          "model_module": "algorithmx-jupyter",
          "model_name": "AlgorithmXModel",
          "model_module_version": "^3.0.0",
          "state": {
            "_dom_classes": [],
            "_model_module": "algorithmx-jupyter",
            "_model_module_version": "^3.0.0",
            "_model_name": "AlgorithmXModel",
            "_view_count": null,
            "_view_module": "algorithmx-jupyter",
            "_view_module_version": "^3.0.0",
            "_view_name": "AlgorithmXView",
            "events": [
              "{\"attrs\": {\"size\": [800, 800]}}",
              "{\"attrs\": {\"nodes\": {\"A\": {}, \"B\": {}, \"C\": {}, \"D\": {}, \"E\": {}, \"F\": {}, \"G\": {}}}}",
              "{\"attrs\": {\"nodes\": {\"A\": {\"color\": \"rgb(168, 153, 104)\"}, \"B\": {\"color\": \"rgb(168, 153, 104)\"}, \"C\": {\"color\": \"rgb(168, 153, 104)\"}, \"D\": {\"color\": \"rgb(168, 153, 104)\"}, \"E\": {\"color\": \"rgb(168, 153, 104)\"}, \"F\": {\"color\": \"rgb(168, 153, 104)\"}, \"G\": {\"color\": \"rgb(168, 153, 104)\"}}}, \"animation\": {\"duration\": 0}}",
              "{\"attrs\": {\"nodes\": {\"A\": {\"labels\": {\"0\": {\"color\": \"black\"}}}, \"B\": {\"labels\": {\"0\": {\"color\": \"black\"}}}, \"C\": {\"labels\": {\"0\": {\"color\": \"black\"}}}, \"D\": {\"labels\": {\"0\": {\"color\": \"black\"}}}, \"E\": {\"labels\": {\"0\": {\"color\": \"black\"}}}, \"F\": {\"labels\": {\"0\": {\"color\": \"black\"}}}, \"G\": {\"labels\": {\"0\": {\"color\": \"black\"}}}}}}",
              "{\"attrs\": {\"edges\": {\"A-C\": {\"source\": \"A\", \"target\": \"C\"}, \"A-D\": {\"source\": \"A\", \"target\": \"D\"}, \"A-E\": {\"source\": \"A\", \"target\": \"E\"}, \"A-F\": {\"source\": \"A\", \"target\": \"F\"}, \"A-G\": {\"source\": \"A\", \"target\": \"G\"}, \"B-C\": {\"source\": \"B\", \"target\": \"C\"}, \"B-D\": {\"source\": \"B\", \"target\": \"D\"}, \"B-F\": {\"source\": \"B\", \"target\": \"F\"}, \"B-G\": {\"source\": \"B\", \"target\": \"G\"}, \"C-D\": {\"source\": \"C\", \"target\": \"D\"}, \"C-E\": {\"source\": \"C\", \"target\": \"E\"}, \"C-F\": {\"source\": \"C\", \"target\": \"F\"}, \"D-E\": {\"source\": \"D\", \"target\": \"E\"}, \"D-G\": {\"source\": \"D\", \"target\": \"G\"}, \"E-F\": {\"source\": \"E\", \"target\": \"F\"}, \"E-G\": {\"source\": \"E\", \"target\": \"G\"}, \"F-G\": {\"source\": \"F\", \"target\": \"G\"}}}}",
              "{\"attrs\": {\"edges\": {\"A-C\": {\"directed\": false}, \"A-D\": {\"directed\": false}, \"A-E\": {\"directed\": false}, \"A-F\": {\"directed\": false}, \"A-G\": {\"directed\": false}, \"B-C\": {\"directed\": false}, \"B-D\": {\"directed\": false}, \"B-F\": {\"directed\": false}, \"B-G\": {\"directed\": false}, \"C-D\": {\"directed\": false}, \"C-E\": {\"directed\": false}, \"C-F\": {\"directed\": false}, \"D-E\": {\"directed\": false}, \"D-G\": {\"directed\": false}, \"E-F\": {\"directed\": false}, \"E-G\": {\"directed\": false}, \"F-G\": {\"directed\": false}}}, \"animation\": {\"duration\": 0}}",
              "{\"attrs\": {\"edges\": {\"A-C\": {\"color\": \"rgb(0, 59, 92)\"}, \"A-D\": {\"color\": \"rgb(0, 59, 92)\"}, \"A-E\": {\"color\": \"rgb(0, 59, 92)\"}, \"A-F\": {\"color\": \"rgb(0, 59, 92)\"}, \"A-G\": {\"color\": \"rgb(0, 59, 92)\"}, \"B-C\": {\"color\": \"rgb(0, 59, 92)\"}, \"B-D\": {\"color\": \"rgb(0, 59, 92)\"}, \"B-F\": {\"color\": \"rgb(0, 59, 92)\"}, \"B-G\": {\"color\": \"rgb(0, 59, 92)\"}, \"C-D\": {\"color\": \"rgb(0, 59, 92)\"}, \"C-E\": {\"color\": \"rgb(0, 59, 92)\"}, \"C-F\": {\"color\": \"rgb(0, 59, 92)\"}, \"D-E\": {\"color\": \"rgb(0, 59, 92)\"}, \"D-G\": {\"color\": \"rgb(0, 59, 92)\"}, \"E-F\": {\"color\": \"rgb(0, 59, 92)\"}, \"E-G\": {\"color\": \"rgb(0, 59, 92)\"}, \"F-G\": {\"color\": \"rgb(0, 59, 92)\"}}}, \"animation\": {\"duration\": 0}}",
              "{\"attrs\": {\"edges\": {\"A-C\": {\"labels\": {\"centrality\": {}}}, \"A-D\": {\"labels\": {\"centrality\": {}}}, \"A-E\": {\"labels\": {\"centrality\": {}}}, \"A-F\": {\"labels\": {\"centrality\": {}}}, \"A-G\": {\"labels\": {\"centrality\": {}}}, \"B-C\": {\"labels\": {\"centrality\": {}}}, \"B-D\": {\"labels\": {\"centrality\": {}}}, \"B-F\": {\"labels\": {\"centrality\": {}}}, \"B-G\": {\"labels\": {\"centrality\": {}}}, \"C-D\": {\"labels\": {\"centrality\": {}}}, \"C-E\": {\"labels\": {\"centrality\": {}}}, \"C-F\": {\"labels\": {\"centrality\": {}}}, \"D-E\": {\"labels\": {\"centrality\": {}}}, \"D-G\": {\"labels\": {\"centrality\": {}}}, \"E-F\": {\"labels\": {\"centrality\": {}}}, \"E-G\": {\"labels\": {\"centrality\": {}}}, \"F-G\": {\"labels\": {\"centrality\": {}}}}}, \"animation\": {\"duration\": 0}}",
              "{\"attrs\": {\"edges\": {\"A-C\": {\"labels\": {\"centrality\": {\"color\": \"black\"}}}, \"A-D\": {\"labels\": {\"centrality\": {\"color\": \"black\"}}}, \"A-E\": {\"labels\": {\"centrality\": {\"color\": \"black\"}}}, \"A-F\": {\"labels\": {\"centrality\": {\"color\": \"black\"}}}, \"A-G\": {\"labels\": {\"centrality\": {\"color\": \"black\"}}}, \"B-C\": {\"labels\": {\"centrality\": {\"color\": \"black\"}}}, \"B-D\": {\"labels\": {\"centrality\": {\"color\": \"black\"}}}, \"B-F\": {\"labels\": {\"centrality\": {\"color\": \"black\"}}}, \"B-G\": {\"labels\": {\"centrality\": {\"color\": \"black\"}}}, \"C-D\": {\"labels\": {\"centrality\": {\"color\": \"black\"}}}, \"C-E\": {\"labels\": {\"centrality\": {\"color\": \"black\"}}}, \"C-F\": {\"labels\": {\"centrality\": {\"color\": \"black\"}}}, \"D-E\": {\"labels\": {\"centrality\": {\"color\": \"black\"}}}, \"D-G\": {\"labels\": {\"centrality\": {\"color\": \"black\"}}}, \"E-F\": {\"labels\": {\"centrality\": {\"color\": \"black\"}}}, \"E-G\": {\"labels\": {\"centrality\": {\"color\": \"black\"}}}, \"F-G\": {\"labels\": {\"centrality\": {\"color\": \"black\"}}}}}, \"animation\": {\"duration\": 0}}",
              "{\"attrs\": {\"edges\": {\"A-C\": {\"labels\": {\"centrality\": {\"text\": \"a\"}}}, \"A-D\": {\"labels\": {\"centrality\": {\"text\": \"b\"}}}, \"A-E\": {\"labels\": {\"centrality\": {\"text\": \"c\"}}}, \"A-F\": {\"labels\": {\"centrality\": {\"text\": \"d\"}}}, \"A-G\": {\"labels\": {\"centrality\": {\"text\": \"e\"}}}, \"B-C\": {\"labels\": {\"centrality\": {\"text\": \"f\"}}}, \"B-D\": {\"labels\": {\"centrality\": {\"text\": \"g\"}}}, \"B-F\": {\"labels\": {\"centrality\": {\"text\": \"h\"}}}, \"B-G\": {\"labels\": {\"centrality\": {\"text\": \"i\"}}}, \"C-D\": {\"labels\": {\"centrality\": {\"text\": \"j\"}}}, \"C-E\": {\"labels\": {\"centrality\": {\"text\": \"k\"}}}, \"C-F\": {\"labels\": {\"centrality\": {\"text\": \"l\"}}}, \"D-E\": {\"labels\": {\"centrality\": {\"text\": \"m\"}}}, \"D-G\": {\"labels\": {\"centrality\": {\"text\": \"n\"}}}, \"E-F\": {\"labels\": {\"centrality\": {\"text\": \"o\"}}}, \"E-G\": {\"labels\": {\"centrality\": {\"text\": \"p\"}}}, \"F-G\": {\"labels\": {\"centrality\": {\"text\": \"q\"}}}}}, \"animation\": {\"duration\": 0}}"
            ],
            "layout": "IPY_MODEL_1888ff2a360e4c2688f80dbe85dcad3b",
            "show_buttons": false
          }
        },
        "1888ff2a360e4c2688f80dbe85dcad3b": {
          "model_module": "@jupyter-widgets/base",
          "model_name": "LayoutModel",
          "model_module_version": "1.2.0",
          "state": {
            "_model_module": "@jupyter-widgets/base",
            "_model_module_version": "1.2.0",
            "_model_name": "LayoutModel",
            "_view_count": null,
            "_view_module": "@jupyter-widgets/base",
            "_view_module_version": "1.2.0",
            "_view_name": "LayoutView",
            "align_content": null,
            "align_items": null,
            "align_self": null,
            "border": null,
            "bottom": null,
            "display": null,
            "flex": null,
            "flex_flow": null,
            "grid_area": null,
            "grid_auto_columns": null,
            "grid_auto_flow": null,
            "grid_auto_rows": null,
            "grid_column": null,
            "grid_gap": null,
            "grid_row": null,
            "grid_template_areas": null,
            "grid_template_columns": null,
            "grid_template_rows": null,
            "height": null,
            "justify_content": null,
            "justify_items": null,
            "left": null,
            "margin": null,
            "max_height": null,
            "max_width": null,
            "min_height": null,
            "min_width": null,
            "object_fit": null,
            "object_position": null,
            "order": null,
            "overflow": null,
            "overflow_x": null,
            "overflow_y": null,
            "padding": null,
            "right": null,
            "top": null,
            "visibility": null,
            "width": null
          }
        }
      }
    }
  },
  "cells": [
    {
      "cell_type": "markdown",
      "metadata": {
        "id": "view-in-github",
        "colab_type": "text"
      },
      "source": [
        "<a href=\"https://colab.research.google.com/github/e-done/math-1009/blob/main/rigidMotion.ipynb\" target=\"_parent\"><img src=\"https://colab.research.google.com/assets/colab-badge.svg\" alt=\"Open In Colab\"/></a>"
      ]
    },
    {
      "cell_type": "markdown",
      "source": [
        "# Load Modules"
      ],
      "metadata": {
        "id": "ZQM7ZN8fUhDM"
      }
    },
    {
      "cell_type": "code",
      "execution_count": null,
      "metadata": {
        "id": "X62n_pzaUfaQ",
        "colab": {
          "base_uri": "https://localhost:8080/"
        },
        "outputId": "6a0413c2-09d2-4161-afa3-55084bdbaa4e"
      },
      "outputs": [
        {
          "output_type": "stream",
          "name": "stdout",
          "text": [
            "Collecting algorithmx\n",
            "  Downloading algorithmx-2.0.3-py3-none-any.whl (1.6 MB)\n",
            "\u001b[2K     \u001b[90m━━━━━━━━━━━━━━━━━━━━━━━━━━━━━━━━━━━━━━━━\u001b[0m \u001b[32m1.6/1.6 MB\u001b[0m \u001b[31m5.9 MB/s\u001b[0m eta \u001b[36m0:00:00\u001b[0m\n",
            "\u001b[?25hInstalling collected packages: algorithmx\n",
            "Successfully installed algorithmx-2.0.3\n"
          ]
        }
      ],
      "source": [
        "! pip install algorithmx\n",
        "import algorithmx\n",
        "import networkx as nx\n",
        "import string\n",
        "import random\n",
        "import itertools"
      ]
    },
    {
      "cell_type": "markdown",
      "source": [
        "# Option 1 : Create Defined Graph"
      ],
      "metadata": {
        "id": "TpGy7TlXVwDK"
      }
    },
    {
      "cell_type": "code",
      "source": [
        "#\n",
        "# G = nx.Graph() # for undirected graph\n",
        "# G = nx.DiGraph() # for directed graph\n",
        "#\n",
        "G = nx.Graph()\n",
        "#\n",
        "#G.add_edge('A','B',weight=8) # for weighted edges\n",
        "#G.add_edge('A','B') # for unweighted edges\n",
        "#\n",
        "G.add_edge('A','C')\n",
        "G.add_edge('B','C')\n",
        "G.add_edge('B','D')\n",
        "G.add_edge('B','E')\n",
        "G.add_edge('C','D')\n",
        "G.add_edge('D','E')"
      ],
      "metadata": {
        "id": "iNjALojyV7vZ"
      },
      "execution_count": null,
      "outputs": []
    },
    {
      "cell_type": "markdown",
      "source": [
        "# Option 2 : Create Random Graph"
      ],
      "metadata": {
        "id": "JvID41lmWA7n"
      }
    },
    {
      "cell_type": "code",
      "source": [
        "##########################\n",
        "# graph settings to edit\n",
        "numVertices = 7\n",
        "logicDirected = False\n",
        "logicWeighted = False\n",
        "##########################\n",
        "\n",
        "percentLink = random.uniform(0.3, 0.7)\n",
        "graphSeed = random.randint(1,1000)\n",
        "print('percentLink =',percentLink)\n",
        "print('graphSeed =',graphSeed)\n",
        "\n",
        "G = nx.gnp_random_graph(numVertices, percentLink, seed=graphSeed, directed=logicDirected)\n",
        "if not logicDirected and not logicWeighted :\n",
        "    G = nx.Graph(G) # makes it undirected\n",
        "# remove any nodes that are not connected to anything\n",
        "G.remove_nodes_from(list(nx.isolates(G)))\n",
        "\n",
        "# dictionary to map nodes to A, B, C, ..., Z, AA, AB, AC, ...\n",
        "def iter_all_upper():\n",
        "    for size in itertools.count(1):\n",
        "        for s in itertools.product(string.ascii_uppercase, repeat=size):\n",
        "            yield \"\".join(s)\n",
        "nodedict = {}\n",
        "i=0\n",
        "for s in iter_all_upper() :\n",
        "    e = list(G.nodes)[i]\n",
        "    nodedict[i] = s\n",
        "    i+=1\n",
        "    if i==len(G.nodes) :\n",
        "        break\n",
        "G = nx.relabel_nodes(G, nodedict)\n",
        "\n",
        "# dictionary to map edges to a, b, c, ..., z, aa, ab, ac, ...\n",
        "def iter_all_lower():\n",
        "    for size in itertools.count(1):\n",
        "        for s in itertools.product(string.ascii_lowercase, repeat=size):\n",
        "            yield \"\".join(s)\n",
        "edgedict = {}\n",
        "i=0\n",
        "for s in iter_all_lower() :\n",
        "    e = list(G.edges)[i]\n",
        "    edgedict[e] = s\n",
        "    i+=1\n",
        "    if i==len(G.edges) :\n",
        "        break\n",
        "\n",
        "# weights\n",
        "if logicWeighted :\n",
        "    weightSeed = random.randint(1,1000)\n",
        "    random.seed(weightSeed)\n",
        "    print('weightSeed =',weightSeed)\n",
        "    nx.set_edge_attributes(G, {e: {'weight': random.randint(1, 10)} for e in G.edges})\n",
        "else :\n",
        "    nx.set_edge_attributes(G, {e: {'weight': 1} for e in G.edges})\n"
      ],
      "metadata": {
        "id": "MywXPK1RWFrC",
        "colab": {
          "base_uri": "https://localhost:8080/"
        },
        "outputId": "4ebebf25-d1cd-4d59-9123-395be806ed93"
      },
      "execution_count": null,
      "outputs": [
        {
          "output_type": "stream",
          "name": "stdout",
          "text": [
            "percentLink = 0.6016796951533192\n",
            "graphSeed = 581\n"
          ]
        }
      ]
    },
    {
      "cell_type": "markdown",
      "source": [
        "# Display Graph Visual\n",
        "\n"
      ],
      "metadata": {
        "id": "yWzlaU5SWWOi"
      }
    },
    {
      "cell_type": "code",
      "source": [
        "from google.colab import output\n",
        "output.enable_custom_widget_manager()\n",
        "\n",
        "# canvas\n",
        "canvas = algorithmx.jupyter_canvas()\n",
        "canvas.size((800, 800))\n",
        "\n",
        "# nodes\n",
        "canvas.nodes(G.nodes).add().color('rgb(168, 153, 104)')\n",
        "canvas.nodes(G.nodes).label().color('black')\n",
        "\n",
        "# edges\n",
        "logicDirected = nx.is_directed(G)\n",
        "init_edges = canvas.edges(G.edges).add().directed(logicDirected).color('rgb(0, 59, 92)')\n",
        "logicWeighted = False\n",
        "for e in G.edges :\n",
        "    if G.edges[e]['weight'] != 1 :\n",
        "        logicWeighted = True\n",
        "if logicWeighted :\n",
        "    init_edges.label().add().color('black').text(lambda e: G.edges[e]['weight'])\n",
        "logicLabeled = True\n",
        "if logicLabeled :\n",
        "    init_edges.label('centrality').add().color('black').text(lambda e: edgedict[e])\n",
        "\n",
        "# display\n",
        "canvas"
      ],
      "metadata": {
        "id": "dagXku9MWczB",
        "colab": {
          "base_uri": "https://localhost:8080/",
          "height": 822,
          "referenced_widgets": [
            "bbbcbb3bfd3747a287fcc67b592ff4d7",
            "1888ff2a360e4c2688f80dbe85dcad3b"
          ]
        },
        "outputId": "8383ad75-088a-41cc-9b23-dbaece16b543"
      },
      "execution_count": null,
      "outputs": [
        {
          "output_type": "display_data",
          "data": {
            "text/plain": [
              "JupyterWidget(events=['{\"attrs\": {\"size\": [800, 800]}}', '{\"attrs\": {\"nodes\": {\"A\": {}, \"B\": {}, \"C\": {}, \"D\":…"
            ],
            "application/vnd.jupyter.widget-view+json": {
              "version_major": 2,
              "version_minor": 0,
              "model_id": "bbbcbb3bfd3747a287fcc67b592ff4d7"
            }
          },
          "metadata": {
            "application/vnd.jupyter.widget-view+json": {
              "colab": {
                "custom_widget_manager": {
                  "url": "https://ssl.gstatic.com/colaboratory-static/widgets/colab-cdn-widget-manager/2b70e893a8ba7c0f/manager.min.js"
                }
              }
            }
          }
        }
      ]
    },
    {
      "cell_type": "markdown",
      "source": [
        "# Display Graph Table"
      ],
      "metadata": {
        "id": "cKiavXAtWnxz"
      }
    },
    {
      "cell_type": "code",
      "source": [
        "print('Vertices')\n",
        "for n in G.nodes :\n",
        "    print(n)\n",
        "print('\\n')\n",
        "print('Edges')\n",
        "logicDirected = nx.is_directed(G)\n",
        "if logicDirected :\n",
        "    print('label = (from vertex, to vertex) : weight')\n",
        "else :\n",
        "    print('label = (vertex, vertex) : weight')\n",
        "for e in G.edges :\n",
        "    print(edgedict[e],' = ',e,':',G.edges[e]['weight'])"
      ],
      "metadata": {
        "id": "gVYvLRnWWq1j",
        "colab": {
          "base_uri": "https://localhost:8080/"
        },
        "outputId": "c98bca7e-b20b-45af-e072-ec29d7d9400e"
      },
      "execution_count": null,
      "outputs": [
        {
          "output_type": "stream",
          "name": "stdout",
          "text": [
            "Vertices\n",
            "A\n",
            "B\n",
            "C\n",
            "D\n",
            "E\n",
            "F\n",
            "G\n",
            "\n",
            "\n",
            "Edges\n",
            "label = (vertex, vertex) : weight\n",
            "a  =  ('A', 'C') : 1\n",
            "b  =  ('A', 'D') : 1\n",
            "c  =  ('A', 'E') : 1\n",
            "d  =  ('A', 'F') : 1\n",
            "e  =  ('A', 'G') : 1\n",
            "f  =  ('B', 'C') : 1\n",
            "g  =  ('B', 'D') : 1\n",
            "h  =  ('B', 'F') : 1\n",
            "i  =  ('B', 'G') : 1\n",
            "j  =  ('C', 'D') : 1\n",
            "k  =  ('C', 'E') : 1\n",
            "l  =  ('C', 'F') : 1\n",
            "m  =  ('D', 'E') : 1\n",
            "n  =  ('D', 'G') : 1\n",
            "o  =  ('E', 'F') : 1\n",
            "p  =  ('E', 'G') : 1\n",
            "q  =  ('F', 'G') : 1\n"
          ]
        }
      ]
    },
    {
      "cell_type": "code",
      "source": [],
      "metadata": {
        "id": "aqjcQRNMsAyI"
      },
      "execution_count": null,
      "outputs": []
    }
  ]
}